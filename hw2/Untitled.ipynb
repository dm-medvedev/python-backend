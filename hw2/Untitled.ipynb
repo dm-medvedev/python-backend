{
 "cells": [
  {
   "cell_type": "code",
   "execution_count": 1,
   "metadata": {},
   "outputs": [],
   "source": [
    "import random\n",
    "from hw import ICache, Ilist"
   ]
  },
  {
   "cell_type": "code",
   "execution_count": 2,
   "metadata": {},
   "outputs": [],
   "source": [
    "list.__init__([1, 2, 3, 4])"
   ]
  },
  {
   "cell_type": "code",
   "execution_count": 3,
   "metadata": {},
   "outputs": [],
   "source": [
    "l1 = Ilist([1, 2, 3, 4])\n",
    "l2 = Ilist([100, -201])"
   ]
  },
  {
   "cell_type": "code",
   "execution_count": 4,
   "metadata": {},
   "outputs": [
    {
     "data": {
      "text/plain": [
       "([-99, 203, 3, 4], [1, 2, 3, 4], [100, -201], [101, -199, 3, 4])"
      ]
     },
     "execution_count": 4,
     "metadata": {},
     "output_type": "execute_result"
    }
   ],
   "source": [
    "l1-l2, l1, l2, l1+l2"
   ]
  },
  {
   "cell_type": "code",
   "execution_count": 5,
   "metadata": {},
   "outputs": [
    {
     "data": {
      "text/plain": [
       "(True, True, False, False, False, True)"
      ]
     },
     "execution_count": 5,
     "metadata": {},
     "output_type": "execute_result"
    }
   ],
   "source": [
    "l1>l2, l1>=l2, l1<l2, l1<=l2, l1==l2, l1!=l2"
   ]
  },
  {
   "cell_type": "code",
   "execution_count": 6,
   "metadata": {},
   "outputs": [
    {
     "data": {
      "text/plain": [
       "False"
      ]
     },
     "execution_count": 6,
     "metadata": {},
     "output_type": "execute_result"
    }
   ],
   "source": [
    "l1.__lt__(l2)"
   ]
  },
  {
   "cell_type": "code",
   "execution_count": 7,
   "metadata": {},
   "outputs": [
    {
     "data": {
      "text/plain": [
       "False"
      ]
     },
     "execution_count": 7,
     "metadata": {},
     "output_type": "execute_result"
    }
   ],
   "source": [
    "sum(l1)==sum(l2)"
   ]
  },
  {
   "cell_type": "code",
   "execution_count": 16,
   "metadata": {},
   "outputs": [
    {
     "data": {
      "text/plain": [
       "True"
      ]
     },
     "execution_count": 16,
     "metadata": {},
     "output_type": "execute_result"
    }
   ],
   "source": [
    "values = list(range(1000))\n",
    "cache = ICache(1000)\n",
    "for v in values:\n",
    "    cache.set('k'+str(v), str(v))\n",
    "    \n",
    "random.shuffle(values)\n",
    "res = []\n",
    "for v in values:\n",
    "    res.append(int(cache.get('k'+str(v))))\n",
    "res == values"
   ]
  },
  {
   "cell_type": "code",
   "execution_count": 18,
   "metadata": {},
   "outputs": [
    {
     "data": {
      "text/plain": [
       "True"
      ]
     },
     "execution_count": 18,
     "metadata": {},
     "output_type": "execute_result"
    }
   ],
   "source": [
    "res = []\n",
    "p = cache.last\n",
    "while p is not None:\n",
    "    res.append(int(p.value))\n",
    "    p = p.r_p\n",
    "res == values"
   ]
  },
  {
   "cell_type": "code",
   "execution_count": 22,
   "metadata": {},
   "outputs": [
    {
     "data": {
      "text/plain": [
       "True"
      ]
     },
     "execution_count": 22,
     "metadata": {},
     "output_type": "execute_result"
    }
   ],
   "source": [
    "random.shuffle(values)\n",
    "for v in values[:900]:\n",
    "    cache.delete('k'+str(v))\n",
    "for v in values[900:]:\n",
    "    cache.get('k'+str(v))\n",
    "res = []\n",
    "p = cache.last\n",
    "while p is not None:\n",
    "    res.append(int(p.value))\n",
    "    p = p.r_p\n",
    "res == values[900:]"
   ]
  },
  {
   "cell_type": "code",
   "execution_count": 24,
   "metadata": {},
   "outputs": [],
   "source": [
    "for v in values[900:]:\n",
    "    cache.delete('k'+str(v))"
   ]
  },
  {
   "cell_type": "code",
   "execution_count": 25,
   "metadata": {},
   "outputs": [
    {
     "name": "stdout",
     "output_type": "stream",
     "text": [
      "None\n"
     ]
    }
   ],
   "source": [
    "visualise(cache)"
   ]
  },
  {
   "cell_type": "code",
   "execution_count": 2,
   "metadata": {},
   "outputs": [],
   "source": [
    "def visualise(cahce):\n",
    "    p = cahce.last\n",
    "    while p is not None:\n",
    "        print(f'({p.key}, {p.value}) ->')\n",
    "        p = p.r_p\n",
    "    print('None')"
   ]
  },
  {
   "cell_type": "code",
   "execution_count": 6,
   "metadata": {},
   "outputs": [
    {
     "name": "stdout",
     "output_type": "stream",
     "text": [
      "(Jesse, Pinkman) ->\n",
      "None\n"
     ]
    }
   ],
   "source": [
    "cache = ICache(2)\n",
    "cache.set('Jesse', 'Pinkman')\n",
    "visualise(cache)"
   ]
  },
  {
   "cell_type": "code",
   "execution_count": 7,
   "metadata": {},
   "outputs": [
    {
     "name": "stdout",
     "output_type": "stream",
     "text": [
      "(Jesse, Pinkman) ->\n",
      "(Walter, White) ->\n",
      "None\n"
     ]
    }
   ],
   "source": [
    "cache.set('Walter', 'White')\n",
    "visualise(cache)"
   ]
  },
  {
   "cell_type": "code",
   "execution_count": 8,
   "metadata": {
    "scrolled": true
   },
   "outputs": [
    {
     "name": "stdout",
     "output_type": "stream",
     "text": [
      "(Walter, White) ->\n",
      "(Jesse, James) ->\n",
      "None\n"
     ]
    }
   ],
   "source": [
    "cache.set('Jesse', 'James')\n",
    "visualise(cache)"
   ]
  },
  {
   "cell_type": "code",
   "execution_count": 9,
   "metadata": {},
   "outputs": [
    {
     "name": "stdout",
     "output_type": "stream",
     "text": [
      "(Walter, White) ->\n",
      "(Jesse, James) ->\n",
      "None\n"
     ]
    }
   ],
   "source": [
    "cache.get('Jesse') # вернёт 'James'\n",
    "visualise(cache)"
   ]
  },
  {
   "cell_type": "code",
   "execution_count": 10,
   "metadata": {
    "scrolled": true
   },
   "outputs": [
    {
     "name": "stdout",
     "output_type": "stream",
     "text": [
      "(Jesse, James) ->\n",
      "None\n"
     ]
    }
   ],
   "source": [
    "cache.delete('Walter')\n",
    "visualise(cache)"
   ]
  },
  {
   "cell_type": "code",
   "execution_count": 11,
   "metadata": {},
   "outputs": [
    {
     "name": "stdout",
     "output_type": "stream",
     "text": [
      "(Jesse, James) ->\n",
      "None\n"
     ]
    }
   ],
   "source": [
    "cache.get('Walter') # вернёт ''\n",
    "visualise(cache)"
   ]
  }
 ],
 "metadata": {
  "kernelspec": {
   "display_name": "Python 3",
   "language": "python",
   "name": "python3"
  },
  "language_info": {
   "codemirror_mode": {
    "name": "ipython",
    "version": 3
   },
   "file_extension": ".py",
   "mimetype": "text/x-python",
   "name": "python",
   "nbconvert_exporter": "python",
   "pygments_lexer": "ipython3",
   "version": "3.8.5"
  }
 },
 "nbformat": 4,
 "nbformat_minor": 4
}
